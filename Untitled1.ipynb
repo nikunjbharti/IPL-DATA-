{
 "cells": [
  {
   "cell_type": "code",
   "execution_count": 3,
   "id": "0c31c4b8-dee4-4ccd-80ae-039ef61376c5",
   "metadata": {
    "tags": []
   },
   "outputs": [],
   "source": [
    "import pandas as pd\n",
    "import numpy as np\n",
    "import seaborn as sns\n",
    "import matplotlib.pyplot as plt"
   ]
  },
  {
   "cell_type": "code",
   "execution_count": 105,
   "id": "d3d3a9d8-9232-4fab-accc-47145a53bf58",
   "metadata": {
    "tags": []
   },
   "outputs": [],
   "source": [
    "import numpy as np\n",
    "\n",
    "# Generate 30 random numbers between 1 and 100\n",
    "dataset= np.random.randint(1, 50001, size=30)"
   ]
  },
  {
   "cell_type": "code",
   "execution_count": 107,
   "id": "81283ef1-fd4e-4541-a2ae-d9c00d48af89",
   "metadata": {
    "tags": []
   },
   "outputs": [],
   "source": [
    "x=dataset"
   ]
  },
  {
   "cell_type": "code",
   "execution_count": 109,
   "id": "36e5ccac-2307-4fc5-bf67-d404ff90e921",
   "metadata": {
    "tags": []
   },
   "outputs": [],
   "source": [
    "outliers =[]\n",
    "def dectect_outliers(data):\n",
    "    threshold=3\n",
    "    mean= np.mean(data)\n",
    "    std= np.std(data)\n",
    "    for i in data:\n",
    "        z=(i-mean)/std\n",
    "        if np.abs(z)> threshold:\n",
    "            outliers.append(i)\n",
    "    return outliers"
   ]
  },
  {
   "cell_type": "code",
   "execution_count": 111,
   "id": "025f78cc-5f30-450e-a2c6-b174a537eecd",
   "metadata": {
    "tags": []
   },
   "outputs": [
    {
     "data": {
      "text/plain": [
       "[]"
      ]
     },
     "execution_count": 111,
     "metadata": {},
     "output_type": "execute_result"
    }
   ],
   "source": [
    "dectect_outliers(x)"
   ]
  },
  {
   "cell_type": "markdown",
   "id": "820ead8d-7e7c-4c0b-8fb5-bef1f8db95ec",
   "metadata": {},
   "source": [
    "### calculating IQR"
   ]
  },
  {
   "cell_type": "code",
   "execution_count": 115,
   "id": "6a24f1b2-87a5-459c-8545-063a8e5774d3",
   "metadata": {
    "tags": []
   },
   "outputs": [],
   "source": [
    "px=sorted(x)"
   ]
  },
  {
   "cell_type": "code",
   "execution_count": 89,
   "id": "7406eeb4-22ef-46d2-9be2-714fdeb7771c",
   "metadata": {
    "tags": []
   },
   "outputs": [],
   "source": [
    "outlier=[]\n",
    "def oyo(data):\n",
    "    q1,q3= np.percentile(data,[25,75])\n",
    "    iqr= q3-q1\n",
    "    lower_finse=q1-1.5*(iqr)\n",
    "    higher_finse=q3+1.5*(iqr)\n",
    "\n",
    "    for i in data:\n",
    "        if (i<lower_finse) or (i>higher_finse):\n",
    "            outlier.append(i)\n",
    "    return outlier"
   ]
  },
  {
   "cell_type": "code",
   "execution_count": 91,
   "id": "3c8d795a-518f-4c04-a637-62674aad33f4",
   "metadata": {
    "tags": []
   },
   "outputs": [
    {
     "data": {
      "text/plain": [
       "[]"
      ]
     },
     "execution_count": 91,
     "metadata": {},
     "output_type": "execute_result"
    }
   ],
   "source": [
    "oyo(x)"
   ]
  },
  {
   "cell_type": "code",
   "execution_count": 113,
   "id": "08c24871-4a38-4338-83f4-f012e0d7f0f8",
   "metadata": {
    "tags": []
   },
   "outputs": [],
   "source": [
    "import numpy as np\n",
    "\n",
    "def oyoo(data):\n",
    "    q1, q3 = np.percentile(data, [25, 75])\n",
    "    iqr = q3 - q1\n",
    "    lower_fence = q1 - 1.5 * iqr\n",
    "    upper_fence = q3 + 1.5 * iqr\n",
    "    \n",
    "    outliers = [i for i in data if i < lower_fence or i > upper_fence]\n",
    "    \n",
    "    return outliers"
   ]
  },
  {
   "cell_type": "code",
   "execution_count": 117,
   "id": "a23ba597-7461-421d-8463-3faeefe57d0a",
   "metadata": {
    "tags": []
   },
   "outputs": [
    {
     "data": {
      "text/plain": [
       "[]"
      ]
     },
     "execution_count": 117,
     "metadata": {},
     "output_type": "execute_result"
    }
   ],
   "source": [
    "oyoo(px)"
   ]
  },
  {
   "cell_type": "code",
   "execution_count": 119,
   "id": "07e46b19-6582-4dcf-8158-a49ea80d1079",
   "metadata": {
    "tags": []
   },
   "outputs": [
    {
     "data": {
      "text/plain": [
       "<Axes: >"
      ]
     },
     "execution_count": 119,
     "metadata": {},
     "output_type": "execute_result"
    },
    {
     "data": {
      "image/png": "[encoded data removed]",
      "text/plain": [
       "<Figure size 640x480 with 1 Axes>"
      ]
     },
     "metadata": {},
     "output_type": "display_data"
    }
   ],
   "source": [
    "sns.boxplot(px)"
   ]
  },
  {
   "cell_type": "code",
   "execution_count": null,
   "id": "a9cbe4de-f953-4e70-a00f-cded4b1c8a5a",
   "metadata": {},
   "outputs": [],
   "source": []
  }
 ],
 "metadata": {
  "kernelspec": {
   "display_name": "Python 3 (ipykernel)",
   "language": "python",
   "name": "python3"
  },
  "language_info": {
   "codemirror_mode": {
    "name": "ipython",
    "version": 3
   },
   "file_extension": ".py",
   "mimetype": "text/x-python",
   "name": "python",
   "nbconvert_exporter": "python",
   "pygments_lexer": "ipython3",
   "version": "3.11.7"
  }
 },
 "nbformat": 4,
 "nbformat_minor": 5
}
